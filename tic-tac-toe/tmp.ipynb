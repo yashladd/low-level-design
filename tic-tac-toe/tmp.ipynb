{
 "cells": [
  {
   "cell_type": "code",
   "execution_count": 1,
   "metadata": {},
   "outputs": [],
   "source": [
    "from enum import Enum"
   ]
  },
  {
   "cell_type": "code",
   "execution_count": 2,
   "metadata": {},
   "outputs": [],
   "source": [
    "from enum import Enum\n",
    "from typing import List, Optional\n",
    "from collections import deque\n",
    "\n",
    "\n",
    "class PieceType(Enum):\n",
    "    X=0\n",
    "    O=1\n",
    "\n",
    "\n",
    "class PlayingPiece:\n",
    "\n",
    "    def __init__(self, piece_type: PieceType) -> None:\n",
    "        self.piece_type = piece_type\n",
    "\n",
    "\n",
    "class PlayingPieceX(PlayingPiece):\n",
    "\n",
    "    def __init__(self) -> None:\n",
    "        super().__init__(PieceType.X)\n",
    "\n",
    "\n",
    "\n",
    "class PlayingPieceO(PlayingPiece):\n",
    "\n",
    "    def __init__(self) -> None:\n",
    "        super().__init__(PieceType.O)"
   ]
  },
  {
   "cell_type": "code",
   "execution_count": 3,
   "metadata": {},
   "outputs": [],
   "source": [
    "playerX = PlayingPieceX()"
   ]
  },
  {
   "cell_type": "code",
   "execution_count": 4,
   "metadata": {},
   "outputs": [],
   "source": [
    "# type(playerX.pieceType.name)\n",
    "\n",
    "# print(playerX.pieceType.name)"
   ]
  },
  {
   "cell_type": "code",
   "execution_count": 5,
   "metadata": {},
   "outputs": [],
   "source": [
    "\n",
    "\n",
    "class Board:\n",
    "    def __init__(self, size: int) -> None:\n",
    "        self.size = size\n",
    "        self.board: List[List[Optional[PlayingPiece]]] = [[None for _ in range(size)] for _ in range(size)]\n",
    "\n",
    "    def print_board(self):\n",
    "        for row in self.board:\n",
    "            print(\"|\".join(list(map( lambda cell: f\" {cell.piece_type.name} \" if cell is not None else \"   \" , row))))\n",
    "            \n",
    "\n",
    "    def get_free_cells(self):\n",
    "        free_cells = []\n",
    "        for row in range(self.size):\n",
    "            for col in range(self.size):\n",
    "                if self.board[row][col] is None:\n",
    "                    free_cells.append((row, col))\n",
    "        return free_cells\n",
    "\n",
    "    def add_piece(self, row, col, playing_piece):\n",
    "        if row < 0 or col < 0 or row >= self.size or col >= self.size:\n",
    "            return False\n",
    "        if self.board[row][col] is not None:\n",
    "            return False\n",
    "        self.board[row][col] = playing_piece\n",
    "        return True\n",
    "\n",
    "class Player:\n",
    "    def __init__(self, name: str, playing_piece: PlayingPiece) -> None:\n",
    "        self.name = name\n",
    "        self.playing_piece = playing_piece\n",
    "\n",
    "\"\"\"\n",
    "    This above approach matches the original Java code's behavior, where the fields name and playing_piece are public and \n",
    "    there are no enforced encapsulations via getters and setters. If you decide later that you need to add controlled \n",
    "    access or validation, you can refactor the code to include @property decorators and make the attributes non-public by \n",
    "    using an underscore prefix. Here is how you would add getters and setters while using encapsulation:\n",
    "\n",
    "    class Player:\n",
    "    def __init__(self, name: str, playing_piece: 'PlayingPiece') -> None:\n",
    "        self._name = name\n",
    "        self._playing_piece = playing_piece\n",
    "\n",
    "    @property\n",
    "    def name(self) -> str:\n",
    "        return self._name\n",
    "\n",
    "    @name.setter\n",
    "    def name(self, value: str) -> None:\n",
    "        self._name = value\n",
    "\n",
    "    @property\n",
    "    def playing_piece(self) -> 'PlayingPiece':\n",
    "        return self._playing_piece\n",
    "\n",
    "    @playing_piece.setter\n",
    "    def playing_piece(self, value: 'PlayingPiece') -> None:\n",
    "        self._playing_piece = value\n",
    "\n",
    "\n",
    "\"\"\"\n",
    "\n",
    "\n",
    "class Game:\n",
    "    def __init__(self) -> None:\n",
    "        self.initialize_game()\n",
    "\n",
    "    def initialize_game(self):\n",
    "        # Create 2 players -> can handle multiple players by adding a mapping of some sort\n",
    "        self.players = deque()\n",
    "        self.player1 = Player('Player 1', PlayingPieceX())\n",
    "        self.player2 = Player('Player 2', PlayingPieceO())\n",
    "        self.players = deque([self.player1, self.player2])\n",
    "\n",
    "        # Create the board\n",
    "        self.board = Board(3)\n",
    "\n",
    "    def is_winner(self, row, col, piece_type):\n",
    "        row_match = True\n",
    "        col_match = True\n",
    "        diag_match = True\n",
    "        anti_diag_match = True\n",
    "        board = self.board.board\n",
    "        size = self.board.size\n",
    "        for i in range(size):\n",
    "            if board[i][col] is None or board[i][col].piece_type != piece_type:\n",
    "                col_match = False\n",
    "        \n",
    "        for i in range(size):\n",
    "            if board[row][i] is None or board[row][i].piece_type != piece_type:\n",
    "                row_match = False \n",
    "\n",
    "        for i in range(size):\n",
    "            if board[i][i] is None or board[i][i].piece_type != piece_type:\n",
    "                diag_match = False \n",
    "\n",
    "        for i in range(size):\n",
    "            if board[i][size-1] is None or board[i][size-1].piece_type != piece_type:\n",
    "                anti_diag_match = False\n",
    "\n",
    "        return row_match or col_match or diag_match or anti_diag_match \n",
    "\n",
    "\n",
    "    def start_game(self):\n",
    "        no_winner = True\n",
    "        while no_winner:\n",
    "            player_turn = self.players.popleft()\n",
    "\n",
    "            self.board.print_board()\n",
    "            # Check for tie\n",
    "            freee_cells = self.board.get_free_cells()\n",
    "\n",
    "            if not freee_cells:\n",
    "                no_winner = False\n",
    "                continue\n",
    "\n",
    "            # Take user input\n",
    "\n",
    "            print(f\"PLayer: {player_turn.name}, Enter row,column\")\n",
    "            row, col = map(lambda x: int(x), input().split(','))\n",
    "            piece_added_success = self.board.add_piece(row, col, player_turn.playing_piece)\n",
    "            if not piece_added_success:\n",
    "                print(\"Position already filled: Try again!\")\n",
    "                self.players.appendleft(player_turn)\n",
    "                continue\n",
    "\n",
    "            self.players.append(player_turn)\n",
    "\n",
    "            winner = self.is_winner(row, col, player_turn.playing_piece.piece_type)\n",
    "            if winner:\n",
    "                self.board.print_board()\n",
    "                return player_turn.name\n",
    "        return 'tie'\n",
    "\n",
    "\n",
    "\n",
    "        \n"
   ]
  },
  {
   "cell_type": "code",
   "execution_count": 6,
   "metadata": {},
   "outputs": [
    {
     "name": "stdout",
     "output_type": "stream",
     "text": [
      "   |   |   \n",
      "   |   |   \n",
      "   |   |   \n",
      "PLayer: Player 1, Enter row,column\n",
      "0 0 <class 'int'> <class 'int'>\n",
      "[[<__main__.PlayingPieceX object at 0x107903a90>, None, None], [None, None, None], [None, None, None]]\n",
      " X |   |   \n",
      "   |   |   \n",
      "   |   |   \n",
      "PLayer: Player 2, Enter row,column\n",
      "1 0 <class 'int'> <class 'int'>\n",
      "[[<__main__.PlayingPieceX object at 0x107903a90>, None, None], [<__main__.PlayingPieceO object at 0x107901150>, None, None], [None, None, None]]\n",
      " X |   |   \n",
      " O |   |   \n",
      "   |   |   \n",
      "PLayer: Player 1, Enter row,column\n"
     ]
    },
    {
     "ename": "ValueError",
     "evalue": "invalid literal for int() with base 10: ''",
     "output_type": "error",
     "traceback": [
      "\u001b[0;31m---------------------------------------------------------------------------\u001b[0m",
      "\u001b[0;31mValueError\u001b[0m                                Traceback (most recent call last)",
      "Cell \u001b[0;32mIn[6], line 2\u001b[0m\n\u001b[1;32m      1\u001b[0m game \u001b[38;5;241m=\u001b[39m Game()\n\u001b[0;32m----> 2\u001b[0m \u001b[38;5;28mprint\u001b[39m(\u001b[38;5;124mf\u001b[39m\u001b[38;5;124m'\u001b[39m\u001b[38;5;124mgame winner is: \u001b[39m\u001b[38;5;132;01m{\u001b[39;00m\u001b[43mgame\u001b[49m\u001b[38;5;241;43m.\u001b[39;49m\u001b[43mstart_game\u001b[49m\u001b[43m(\u001b[49m\u001b[43m)\u001b[49m\u001b[38;5;132;01m}\u001b[39;00m\u001b[38;5;124m'\u001b[39m)\n",
      "Cell \u001b[0;32mIn[5], line 120\u001b[0m, in \u001b[0;36mGame.start_game\u001b[0;34m(self)\u001b[0m\n\u001b[1;32m    117\u001b[0m \u001b[38;5;66;03m# Take user input\u001b[39;00m\n\u001b[1;32m    119\u001b[0m \u001b[38;5;28mprint\u001b[39m(\u001b[38;5;124mf\u001b[39m\u001b[38;5;124m\"\u001b[39m\u001b[38;5;124mPLayer: \u001b[39m\u001b[38;5;132;01m{\u001b[39;00mplayer_turn\u001b[38;5;241m.\u001b[39mname\u001b[38;5;132;01m}\u001b[39;00m\u001b[38;5;124m, Enter row,column\u001b[39m\u001b[38;5;124m\"\u001b[39m)\n\u001b[0;32m--> 120\u001b[0m row, col \u001b[38;5;241m=\u001b[39m \u001b[38;5;28mmap\u001b[39m(\u001b[38;5;28;01mlambda\u001b[39;00m x: \u001b[38;5;28mint\u001b[39m(x), \u001b[38;5;28minput\u001b[39m()\u001b[38;5;241m.\u001b[39msplit(\u001b[38;5;124m'\u001b[39m\u001b[38;5;124m,\u001b[39m\u001b[38;5;124m'\u001b[39m))\n\u001b[1;32m    121\u001b[0m \u001b[38;5;28mprint\u001b[39m(row, col, \u001b[38;5;28mtype\u001b[39m(row), \u001b[38;5;28mtype\u001b[39m(col))\n\u001b[1;32m    122\u001b[0m piece_added_success \u001b[38;5;241m=\u001b[39m \u001b[38;5;28mself\u001b[39m\u001b[38;5;241m.\u001b[39mboard\u001b[38;5;241m.\u001b[39madd_piece(row, col, player_turn\u001b[38;5;241m.\u001b[39mplaying_piece)\n",
      "Cell \u001b[0;32mIn[5], line 120\u001b[0m, in \u001b[0;36mGame.start_game.<locals>.<lambda>\u001b[0;34m(x)\u001b[0m\n\u001b[1;32m    117\u001b[0m \u001b[38;5;66;03m# Take user input\u001b[39;00m\n\u001b[1;32m    119\u001b[0m \u001b[38;5;28mprint\u001b[39m(\u001b[38;5;124mf\u001b[39m\u001b[38;5;124m\"\u001b[39m\u001b[38;5;124mPLayer: \u001b[39m\u001b[38;5;132;01m{\u001b[39;00mplayer_turn\u001b[38;5;241m.\u001b[39mname\u001b[38;5;132;01m}\u001b[39;00m\u001b[38;5;124m, Enter row,column\u001b[39m\u001b[38;5;124m\"\u001b[39m)\n\u001b[0;32m--> 120\u001b[0m row, col \u001b[38;5;241m=\u001b[39m \u001b[38;5;28mmap\u001b[39m(\u001b[38;5;28;01mlambda\u001b[39;00m x: \u001b[38;5;28;43mint\u001b[39;49m\u001b[43m(\u001b[49m\u001b[43mx\u001b[49m\u001b[43m)\u001b[49m, \u001b[38;5;28minput\u001b[39m()\u001b[38;5;241m.\u001b[39msplit(\u001b[38;5;124m'\u001b[39m\u001b[38;5;124m,\u001b[39m\u001b[38;5;124m'\u001b[39m))\n\u001b[1;32m    121\u001b[0m \u001b[38;5;28mprint\u001b[39m(row, col, \u001b[38;5;28mtype\u001b[39m(row), \u001b[38;5;28mtype\u001b[39m(col))\n\u001b[1;32m    122\u001b[0m piece_added_success \u001b[38;5;241m=\u001b[39m \u001b[38;5;28mself\u001b[39m\u001b[38;5;241m.\u001b[39mboard\u001b[38;5;241m.\u001b[39madd_piece(row, col, player_turn\u001b[38;5;241m.\u001b[39mplaying_piece)\n",
      "\u001b[0;31mValueError\u001b[0m: invalid literal for int() with base 10: ''"
     ]
    }
   ],
   "source": [
    "game = Game()\n",
    "print(f'game winner is: {game.start_game()}')"
   ]
  },
  {
   "cell_type": "code",
   "execution_count": null,
   "metadata": {},
   "outputs": [],
   "source": [
    "b = Board(3)"
   ]
  },
  {
   "cell_type": "code",
   "execution_count": null,
   "metadata": {},
   "outputs": [
    {
     "name": "stdout",
     "output_type": "stream",
     "text": [
      "  |  |  \n",
      "  |  |  \n",
      "  |  |  \n"
     ]
    }
   ],
   "source": [
    "b.print_board()"
   ]
  },
  {
   "cell_type": "code",
   "execution_count": null,
   "metadata": {},
   "outputs": [],
   "source": []
  }
 ],
 "metadata": {
  "kernelspec": {
   "display_name": "heat",
   "language": "python",
   "name": "python3"
  },
  "language_info": {
   "codemirror_mode": {
    "name": "ipython",
    "version": 3
   },
   "file_extension": ".py",
   "mimetype": "text/x-python",
   "name": "python",
   "nbconvert_exporter": "python",
   "pygments_lexer": "ipython3",
   "version": "3.10.13"
  }
 },
 "nbformat": 4,
 "nbformat_minor": 2
}
